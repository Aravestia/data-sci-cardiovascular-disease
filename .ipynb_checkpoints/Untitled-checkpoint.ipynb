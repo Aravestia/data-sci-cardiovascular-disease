{
 "cells": [
  {
   "cell_type": "code",
   "execution_count": null,
   "id": "d47ce5eb",
   "metadata": {},
   "outputs": [],
   "source": [
    "# Basic Libraries\n",
    "import numpy as np\n",
    "import pandas as pd\n",
    "import seaborn as sb\n",
    "import matplotlib.pyplot as plt # we only need pyplot\n",
    "sb.set() # set the default Seaborn style for graphics"
   ]
  },
  {
   "cell_type": "code",
   "execution_count": null,
   "id": "5e50999f",
   "metadata": {},
   "outputs": [],
   "source": [
    "cardiodata = pd.read_csv('cardio_train.csv', delimiter = \";\")\n",
    "cardiodata"
   ]
  },
  {
   "cell_type": "code",
   "execution_count": null,
   "id": "f972ffdc",
   "metadata": {},
   "outputs": [],
   "source": [
    "print(\"Data type : \", type(cardiodata))\n",
    "print(\"Data dims : \", cardiodata.shape)"
   ]
  },
  {
   "cell_type": "code",
   "execution_count": null,
   "id": "eb123661",
   "metadata": {},
   "outputs": [],
   "source": [
    "cardiodata.info()"
   ]
  },
  {
   "cell_type": "code",
   "execution_count": null,
   "id": "0b1004a7",
   "metadata": {},
   "outputs": [],
   "source": [
    "cardiodata.describe()"
   ]
  },
  {
   "cell_type": "code",
   "execution_count": null,
   "id": "a4ddcb65",
   "metadata": {},
   "outputs": [],
   "source": [
    "height = pd.DataFrame(cardiodata['height'])\n",
    "weight = pd.DataFrame(cardiodata['weight'])\n",
    "ap_hi = pd.DataFrame(cardiodata['ap_hi'])\n",
    "ap_lo = pd.DataFrame(cardiodata['ap_lo'])"
   ]
  },
  {
   "cell_type": "code",
   "execution_count": null,
   "id": "9dfaaa18",
   "metadata": {},
   "outputs": [],
   "source": [
    "# Set up matplotlib figure with three subplots\n",
    "f, axes = plt.subplots(4, 3, figsize=(18, 12))\n",
    "\n",
    "# Plot the basic uni-variate figures for HP\n",
    "sb.boxplot(data = height, orient = \"h\", ax = axes[0,0])\n",
    "sb.histplot(data = height, ax = axes[0,1])\n",
    "sb.violinplot(data = height, orient = \"h\", ax = axes[0,2])\n",
    "\n",
    "# Plot the basic uni-variate figures for Attack\n",
    "sb.boxplot(data = weight, orient = \"h\", ax = axes[1,0])\n",
    "sb.histplot(data = weight, ax = axes[1,1])\n",
    "sb.violinplot(data = weight, orient = \"h\", ax = axes[1,2])\n",
    "\n",
    "# Plot the basic uni-variate figures for HP\n",
    "sb.boxplot(data = ap_hi, orient = \"h\", ax = axes[2,0])\n",
    "sb.histplot(data = ap_hi, ax = axes[2,1])\n",
    "sb.violinplot(data = ap_hi, orient = \"h\", ax = axes[2,2])\n",
    "\n",
    "# Plot the basic uni-variate figures for Attack\n",
    "sb.boxplot(data = ap_lo, orient = \"h\", ax = axes[3,0])\n",
    "sb.histplot(data = ap_lo, ax = axes[3,1])\n",
    "sb.violinplot(data = ap_lo, orient = \"h\", ax = axes[3,2])"
   ]
  },
  {
   "cell_type": "code",
   "execution_count": null,
   "id": "48e3d568",
   "metadata": {},
   "outputs": [],
   "source": []
  },
  {
   "cell_type": "code",
   "execution_count": null,
   "id": "624bf32d",
   "metadata": {},
   "outputs": [],
   "source": []
  }
 ],
 "metadata": {
  "kernelspec": {
   "display_name": "Python 3 (ipykernel)",
   "language": "python",
   "name": "python3"
  },
  "language_info": {
   "codemirror_mode": {
    "name": "ipython",
    "version": 3
   },
   "file_extension": ".py",
   "mimetype": "text/x-python",
   "name": "python",
   "nbconvert_exporter": "python",
   "pygments_lexer": "ipython3",
   "version": "3.9.12"
  }
 },
 "nbformat": 4,
 "nbformat_minor": 5
}
